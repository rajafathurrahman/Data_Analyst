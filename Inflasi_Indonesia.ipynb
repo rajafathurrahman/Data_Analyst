{
 "cells": [
  {
   "cell_type": "markdown",
   "metadata": {},
   "source": [
    "# Load dan Preprocessing Data"
   ]
  },
  {
   "cell_type": "code",
   "execution_count": 129,
   "metadata": {},
   "outputs": [
    {
     "name": "stderr",
     "output_type": "stream",
     "text": [
      "--2019-09-06 23:56:54--  https://github.com/rajafathurrahman/Data_Analyst/raw/master/Inflasi.xlsx\n",
      "Resolving github.com (github.com)... 13.250.177.223\n",
      "Connecting to github.com (github.com)|13.250.177.223|:443... connected.\n",
      "HTTP request sent, awaiting response... 302 Found\n",
      "Location: https://raw.githubusercontent.com/rajafathurrahman/Data_Analyst/master/Inflasi.xlsx [following]\n",
      "--2019-09-06 23:56:56--  https://raw.githubusercontent.com/rajafathurrahman/Data_Analyst/master/Inflasi.xlsx\n",
      "Resolving raw.githubusercontent.com (raw.githubusercontent.com)... 151.101.0.133, 151.101.64.133, 151.101.128.133, ...\n",
      "Connecting to raw.githubusercontent.com (raw.githubusercontent.com)|151.101.0.133|:443... connected.\n",
      "HTTP request sent, awaiting response... 200 OK\n",
      "Length: 13159 (13K) [application/octet-stream]\n",
      "Saving to: 'Inflasi.xlsx'\n",
      "\n",
      "     0K .......... ..                                         100%  144K=0.09s\n",
      "\n",
      "2019-09-06 23:56:57 (144 KB/s) - 'Inflasi.xlsx' saved [13159/13159]\n",
      "\n"
     ]
    }
   ],
   "source": [
    "#menggambil data inflasi,xlsx secara otomatis dengan perintah wget dan menyimpan data pda folder yang sama dengan program\n",
    "!wget -O Inflasi.xlsx https://github.com/rajafathurrahman/Data_Analyst/raw/master/Inflasi.xlsx"
   ]
  },
  {
   "cell_type": "code",
   "execution_count": 46,
   "metadata": {},
   "outputs": [],
   "source": [
    "#import library\n",
    "import pandas as pd\n",
    "import matplotlib.pyplot as plt\n",
    "import seaborn as sns\n",
    "import numpy as np\n",
    "from pandas.plotting import register_matplotlib_converters\n",
    "\n",
    "#import data\n",
    "inflation_data = pd.read_excel (r'Inflasi.xlsx')"
   ]
  },
  {
   "cell_type": "code",
   "execution_count": 47,
   "metadata": {},
   "outputs": [],
   "source": [
    "#Pemisahan data tanggal berbentuk sting menjadi bulan dan tahun secara terpisah\n",
    "data = inflation_data[\"Month\"].str.split(\" \", n = 1, expand = True)\n",
    "\n",
    "#memberi nama pada kolum data\n",
    "data.columns = ['Bulan', 'Tahun']\n",
    "\n",
    "#menghilangkan kolom untuk mendapatkan data yang sesuai dengan keinginan (data numerik)\n",
    "inflation_data = inflation_data.drop(['Month'],axis=1)"
   ]
  },
  {
   "cell_type": "code",
   "execution_count": 48,
   "metadata": {},
   "outputs": [],
   "source": [
    "#konversi ke data tanggal (date) dan mengestrak tahun saja\n",
    "data['Tahun'] = pd.to_datetime(data['Tahun'])\n",
    "data['Tahun'] = pd.Series(pd. DatetimeIndex(data['Tahun']).year) "
   ]
  },
  {
   "cell_type": "code",
   "execution_count": 49,
   "metadata": {},
   "outputs": [],
   "source": [
    "#Merubah Sting bulan dalam bahasa indonesia ke dalam bahasa inggirs agar dapat diubah dalam format Tanggal (Date)\n",
    "data.loc[(data['Bulan'] == 'Januari' ),'Bulan'] = 'January'\n",
    "data.loc[(data['Bulan'] == 'Februari' ),'Bulan'] = 'February'\n",
    "data.loc[(data['Bulan'] == 'Maret' ),'Bulan'] = 'March'\n",
    "data.loc[(data['Bulan'] == 'April' ),'Bulan'] = 'April'\n",
    "data.loc[(data['Bulan'] == 'Mei' ),'Bulan'] = 'May'\n",
    "data.loc[(data['Bulan'] == 'Juni' ),'Bulan'] = 'June'\n",
    "data.loc[(data['Bulan'] == 'Juli' ),'Bulan'] = 'July'\n",
    "data.loc[(data['Bulan'] == 'Agustus' ),'Bulan'] = 'August'\n",
    "data.loc[(data['Bulan'] == 'September' ),'Bulan'] = 'September'\n",
    "data.loc[(data['Bulan'] == 'Oktober' ),'Bulan'] = 'October'\n",
    "data.loc[(data['Bulan'] == 'Nopember' ),'Bulan'] = 'November'\n",
    "data.loc[(data['Bulan'] == 'Desember' ),'Bulan'] = 'December'"
   ]
  },
  {
   "cell_type": "code",
   "execution_count": 50,
   "metadata": {},
   "outputs": [],
   "source": [
    "#mengkombinasikan data bulan dan tahun\n",
    "tanggal = data['Bulan']+\" \"+data['Tahun'].map(str)\n",
    "\n",
    "#Menngabungkan dua dataframe menjadi satu dataframe\n",
    "dataset_inflasi = pd.DataFrame(tanggal).join(inflation_data['Inflasi'])\n",
    "\n",
    "#merubah nama kolom dataframe agar lebih mudah saat pemanggilan variable\n",
    "dataset_inflasi.columns = ['Tanggal','Inflasi']\n",
    "\n",
    "#konversi dari bentuk string ke dalam bentuk tanggal (Datetime).\n",
    "dataset_inflasi['Tanggal']=pd.to_datetime(dataset_inflasi['Tanggal'])"
   ]
  },
  {
   "cell_type": "code",
   "execution_count": 51,
   "metadata": {},
   "outputs": [
    {
     "data": {
      "text/html": [
       "<div>\n",
       "<style scoped>\n",
       "    .dataframe tbody tr th:only-of-type {\n",
       "        vertical-align: middle;\n",
       "    }\n",
       "\n",
       "    .dataframe tbody tr th {\n",
       "        vertical-align: top;\n",
       "    }\n",
       "\n",
       "    .dataframe thead th {\n",
       "        text-align: right;\n",
       "    }\n",
       "</style>\n",
       "<table border=\"1\" class=\"dataframe\">\n",
       "  <thead>\n",
       "    <tr style=\"text-align: right;\">\n",
       "      <th></th>\n",
       "      <th>Tanggal</th>\n",
       "      <th>Inflasi</th>\n",
       "    </tr>\n",
       "  </thead>\n",
       "  <tbody>\n",
       "    <tr>\n",
       "      <th>0</th>\n",
       "      <td>2019-06-01</td>\n",
       "      <td>0.0328</td>\n",
       "    </tr>\n",
       "    <tr>\n",
       "      <th>1</th>\n",
       "      <td>2019-05-01</td>\n",
       "      <td>0.0332</td>\n",
       "    </tr>\n",
       "    <tr>\n",
       "      <th>2</th>\n",
       "      <td>2019-04-01</td>\n",
       "      <td>0.0283</td>\n",
       "    </tr>\n",
       "    <tr>\n",
       "      <th>3</th>\n",
       "      <td>2019-03-01</td>\n",
       "      <td>0.0248</td>\n",
       "    </tr>\n",
       "    <tr>\n",
       "      <th>4</th>\n",
       "      <td>2019-02-01</td>\n",
       "      <td>0.0257</td>\n",
       "    </tr>\n",
       "  </tbody>\n",
       "</table>\n",
       "</div>"
      ],
      "text/plain": [
       "     Tanggal  Inflasi\n",
       "0 2019-06-01   0.0328\n",
       "1 2019-05-01   0.0332\n",
       "2 2019-04-01   0.0283\n",
       "3 2019-03-01   0.0248\n",
       "4 2019-02-01   0.0257"
      ]
     },
     "execution_count": 51,
     "metadata": {},
     "output_type": "execute_result"
    }
   ],
   "source": [
    "dataset_inflasi.head() "
   ]
  },
  {
   "cell_type": "markdown",
   "metadata": {},
   "source": [
    "# Analisis Deskriptif"
   ]
  },
  {
   "cell_type": "code",
   "execution_count": 52,
   "metadata": {},
   "outputs": [],
   "source": [
    "#mengurutkan data berdasarkan tanggal\n",
    "dataset_inflasi = dataset_inflasi.sort_values(by='Tanggal', ascending=True).reset_index( drop=True)"
   ]
  },
  {
   "cell_type": "code",
   "execution_count": 53,
   "metadata": {},
   "outputs": [
    {
     "data": {
      "text/plain": [
       "(199, 2)"
      ]
     },
     "execution_count": 53,
     "metadata": {},
     "output_type": "execute_result"
    }
   ],
   "source": [
    "dataset_inflasi.shape"
   ]
  },
  {
   "cell_type": "code",
   "execution_count": 54,
   "metadata": {},
   "outputs": [
    {
     "name": "stdout",
     "output_type": "stream",
     "text": [
      "<class 'pandas.core.frame.DataFrame'>\n",
      "RangeIndex: 199 entries, 0 to 198\n",
      "Data columns (total 2 columns):\n",
      "Tanggal    199 non-null datetime64[ns]\n",
      "Inflasi    199 non-null float64\n",
      "dtypes: datetime64[ns](1), float64(1)\n",
      "memory usage: 3.2 KB\n"
     ]
    }
   ],
   "source": [
    "dataset_inflasi.info() #infoemasi tentang dataframe"
   ]
  },
  {
   "cell_type": "code",
   "execution_count": 55,
   "metadata": {},
   "outputs": [
    {
     "data": {
      "text/html": [
       "<div>\n",
       "<style scoped>\n",
       "    .dataframe tbody tr th:only-of-type {\n",
       "        vertical-align: middle;\n",
       "    }\n",
       "\n",
       "    .dataframe tbody tr th {\n",
       "        vertical-align: top;\n",
       "    }\n",
       "\n",
       "    .dataframe thead th {\n",
       "        text-align: right;\n",
       "    }\n",
       "</style>\n",
       "<table border=\"1\" class=\"dataframe\">\n",
       "  <thead>\n",
       "    <tr style=\"text-align: right;\">\n",
       "      <th></th>\n",
       "      <th>Inflasi</th>\n",
       "    </tr>\n",
       "  </thead>\n",
       "  <tbody>\n",
       "    <tr>\n",
       "      <th>count</th>\n",
       "      <td>199.000000</td>\n",
       "    </tr>\n",
       "    <tr>\n",
       "      <th>mean</th>\n",
       "      <td>0.063147</td>\n",
       "    </tr>\n",
       "    <tr>\n",
       "      <th>std</th>\n",
       "      <td>0.033162</td>\n",
       "    </tr>\n",
       "    <tr>\n",
       "      <th>min</th>\n",
       "      <td>0.000000</td>\n",
       "    </tr>\n",
       "    <tr>\n",
       "      <th>25%</th>\n",
       "      <td>0.038550</td>\n",
       "    </tr>\n",
       "    <tr>\n",
       "      <th>50%</th>\n",
       "      <td>0.060400</td>\n",
       "    </tr>\n",
       "    <tr>\n",
       "      <th>75%</th>\n",
       "      <td>0.072850</td>\n",
       "    </tr>\n",
       "    <tr>\n",
       "      <th>max</th>\n",
       "      <td>0.183800</td>\n",
       "    </tr>\n",
       "  </tbody>\n",
       "</table>\n",
       "</div>"
      ],
      "text/plain": [
       "          Inflasi\n",
       "count  199.000000\n",
       "mean     0.063147\n",
       "std      0.033162\n",
       "min      0.000000\n",
       "25%      0.038550\n",
       "50%      0.060400\n",
       "75%      0.072850\n",
       "max      0.183800"
      ]
     },
     "execution_count": 55,
     "metadata": {},
     "output_type": "execute_result"
    }
   ],
   "source": [
    "dataset_inflasi.describe() #informasi deskriptif dari data frame"
   ]
  },
  {
   "cell_type": "code",
   "execution_count": 57,
   "metadata": {},
   "outputs": [
    {
     "data": {
      "text/html": [
       "<div>\n",
       "<style scoped>\n",
       "    .dataframe tbody tr th:only-of-type {\n",
       "        vertical-align: middle;\n",
       "    }\n",
       "\n",
       "    .dataframe tbody tr th {\n",
       "        vertical-align: top;\n",
       "    }\n",
       "\n",
       "    .dataframe thead th {\n",
       "        text-align: right;\n",
       "    }\n",
       "</style>\n",
       "<table border=\"1\" class=\"dataframe\">\n",
       "  <thead>\n",
       "    <tr style=\"text-align: right;\">\n",
       "      <th></th>\n",
       "      <th>Tanggal</th>\n",
       "      <th>Inflasi</th>\n",
       "    </tr>\n",
       "  </thead>\n",
       "  <tbody>\n",
       "    <tr>\n",
       "      <th>0</th>\n",
       "      <td>2002-12-01</td>\n",
       "      <td>0.0000</td>\n",
       "    </tr>\n",
       "    <tr>\n",
       "      <th>1</th>\n",
       "      <td>2003-01-01</td>\n",
       "      <td>0.0868</td>\n",
       "    </tr>\n",
       "    <tr>\n",
       "      <th>2</th>\n",
       "      <td>2003-02-01</td>\n",
       "      <td>0.0760</td>\n",
       "    </tr>\n",
       "    <tr>\n",
       "      <th>3</th>\n",
       "      <td>2003-03-01</td>\n",
       "      <td>0.0717</td>\n",
       "    </tr>\n",
       "    <tr>\n",
       "      <th>4</th>\n",
       "      <td>2003-04-01</td>\n",
       "      <td>0.0762</td>\n",
       "    </tr>\n",
       "  </tbody>\n",
       "</table>\n",
       "</div>"
      ],
      "text/plain": [
       "     Tanggal  Inflasi\n",
       "0 2002-12-01   0.0000\n",
       "1 2003-01-01   0.0868\n",
       "2 2003-02-01   0.0760\n",
       "3 2003-03-01   0.0717\n",
       "4 2003-04-01   0.0762"
      ]
     },
     "execution_count": 57,
     "metadata": {},
     "output_type": "execute_result"
    }
   ],
   "source": [
    "dataset_inflasi.head() #tampilan data setelah di urutkan berdasarkan tanggal"
   ]
  },
  {
   "cell_type": "code",
   "execution_count": 40,
   "metadata": {},
   "outputs": [
    {
     "data": {
      "image/png": "[encoded data removed]",
      "text/plain": [
       "<Figure size 720x432 with 1 Axes>"
      ]
     },
     "metadata": {
      "needs_background": "light"
     },
     "output_type": "display_data"
    }
   ],
   "source": [
    "#ploting data inflasi dari tahun 2002 hingga 2019\n",
    "register_matplotlib_converters() #konversi tanggal agar mudah di kenali pada python 3 (matplotlib)\n",
    "plt.figure(figsize=(10,6))\n",
    "plt.plot(dataset_inflasi['Tanggal'],dataset_inflasi['Inflasi'])\n",
    "\n",
    "plt.title('Data Inflasi Indonesia')\n",
    "plt.ylabel('Inflasi')\n",
    "plt.xlabel('Tahun')\n",
    "plt.show() "
   ]
  },
  {
   "cell_type": "code",
   "execution_count": 115,
   "metadata": {},
   "outputs": [
    {
     "data": {
      "image/png": "[encoded data removed]",
      "text/plain": [
       "<Figure size 288x504 with 1 Axes>"
      ]
     },
     "metadata": {},
     "output_type": "display_data"
    }
   ],
   "source": [
    "plt.figure(figsize=(4,7))\n",
    "sns.boxplot( x= 'Inflasi',  data=dataset_inflasi, orient='v');"
   ]
  },
  {
   "cell_type": "code",
   "execution_count": 128,
   "metadata": {},
   "outputs": [
    {
     "data": {
      "image/png": "[encoded data removed]",
      "text/plain": [
       "<Figure size 576x396 with 1 Axes>"
      ]
     },
     "metadata": {},
     "output_type": "display_data"
    }
   ],
   "source": [
    "ax=sns.distplot(dataset_inflasi['Inflasi'],color='b', bins=50, hist_kws={'alpha': 0.5}) #Frekuensi distribusi\n",
    "ax.set(title=\"Distribusi Frekuensi\",xlabel='Inflasi', ylabel='Frekuensi')\n",
    "plt.show()"
   ]
  },
  {
   "cell_type": "markdown",
   "metadata": {},
   "source": [
    "# Analisis Prediktif "
   ]
  },
  {
   "cell_type": "code",
   "execution_count": 94,
   "metadata": {},
   "outputs": [],
   "source": [
    "#import library sklearn untuk analisis klastering\n",
    "from sklearn.cluster import KMeans\n",
    "\n",
    "#Inisialisasi data inflasi utuk proses klastering\n",
    "X = dataset_inflasi[['Inflasi']]\n",
    "\n",
    "#klasterisasi menngunakanan 3 center\n",
    "kmeans = KMeans(n_clusters=3, random_state=0).fit(X)"
   ]
  },
  {
   "cell_type": "code",
   "execution_count": 123,
   "metadata": {},
   "outputs": [
    {
     "data": {
      "image/png": "[encoded data removed]",
      "text/plain": [
       "<Figure size 720x432 with 1 Axes>"
      ]
     },
     "metadata": {},
     "output_type": "display_data"
    }
   ],
   "source": [
    "# Plotting the cluster centers and the data points on a 2D plane\n",
    "plt.figure(figsize=(10,6))\n",
    "plt.scatter(dataset_inflasi['Tanggal'],X.iloc[:, 0],c=kmeans.labels_,cmap=\"Blues\", edgecolors=\"black\")\n",
    "plt.title('Data Inflasi Indonesia, berdasrakan klastering')\n",
    "plt.ylabel('Inflasi')\n",
    "plt.xlabel('Tahun')\n",
    "plt.show()"
   ]
  },
  {
   "cell_type": "code",
   "execution_count": 98,
   "metadata": {},
   "outputs": [],
   "source": [
    "#menambahkan variable hasil klasterisasi memberikan label baru mengenai informasi kalsifikasi inflasi\n",
    "t=pd.DataFrame()\n",
    "t['Label_Inflasi']=kmeans.labels_"
   ]
  },
  {
   "cell_type": "code",
   "execution_count": 100,
   "metadata": {},
   "outputs": [],
   "source": [
    "dataset_inflasi = dataset_inflasi.join(t)"
   ]
  },
  {
   "cell_type": "markdown",
   "metadata": {},
   "source": [
    "### Note : \n",
    "Klasifikasi inflasi indonsia termuat dalam variable <b>Label_Inflasi</b> dapat di bagi menjadi 3 klasifikasi, inflasi rendah (0), inflasi sedang (1) dan inflasi tinggi (2)"
   ]
  },
  {
   "cell_type": "code",
   "execution_count": 104,
   "metadata": {},
   "outputs": [
    {
     "data": {
      "text/html": [
       "<div>\n",
       "<style scoped>\n",
       "    .dataframe tbody tr th:only-of-type {\n",
       "        vertical-align: middle;\n",
       "    }\n",
       "\n",
       "    .dataframe tbody tr th {\n",
       "        vertical-align: top;\n",
       "    }\n",
       "\n",
       "    .dataframe thead th {\n",
       "        text-align: right;\n",
       "    }\n",
       "</style>\n",
       "<table border=\"1\" class=\"dataframe\">\n",
       "  <thead>\n",
       "    <tr style=\"text-align: right;\">\n",
       "      <th></th>\n",
       "      <th>Tanggal</th>\n",
       "      <th>Inflasi</th>\n",
       "      <th>Label_Inflasi</th>\n",
       "    </tr>\n",
       "  </thead>\n",
       "  <tbody>\n",
       "    <tr>\n",
       "      <th>0</th>\n",
       "      <td>2002-12-01</td>\n",
       "      <td>0.0000</td>\n",
       "      <td>0</td>\n",
       "    </tr>\n",
       "    <tr>\n",
       "      <th>1</th>\n",
       "      <td>2003-01-01</td>\n",
       "      <td>0.0868</td>\n",
       "      <td>2</td>\n",
       "    </tr>\n",
       "    <tr>\n",
       "      <th>2</th>\n",
       "      <td>2003-02-01</td>\n",
       "      <td>0.0760</td>\n",
       "      <td>2</td>\n",
       "    </tr>\n",
       "    <tr>\n",
       "      <th>3</th>\n",
       "      <td>2003-03-01</td>\n",
       "      <td>0.0717</td>\n",
       "      <td>2</td>\n",
       "    </tr>\n",
       "    <tr>\n",
       "      <th>4</th>\n",
       "      <td>2003-04-01</td>\n",
       "      <td>0.0762</td>\n",
       "      <td>2</td>\n",
       "    </tr>\n",
       "    <tr>\n",
       "      <th>5</th>\n",
       "      <td>2003-05-01</td>\n",
       "      <td>0.0715</td>\n",
       "      <td>2</td>\n",
       "    </tr>\n",
       "    <tr>\n",
       "      <th>6</th>\n",
       "      <td>2003-06-01</td>\n",
       "      <td>0.0698</td>\n",
       "      <td>2</td>\n",
       "    </tr>\n",
       "    <tr>\n",
       "      <th>7</th>\n",
       "      <td>2003-07-01</td>\n",
       "      <td>0.0627</td>\n",
       "      <td>2</td>\n",
       "    </tr>\n",
       "    <tr>\n",
       "      <th>8</th>\n",
       "      <td>2003-08-01</td>\n",
       "      <td>0.0651</td>\n",
       "      <td>2</td>\n",
       "    </tr>\n",
       "    <tr>\n",
       "      <th>9</th>\n",
       "      <td>2003-09-01</td>\n",
       "      <td>0.0633</td>\n",
       "      <td>2</td>\n",
       "    </tr>\n",
       "  </tbody>\n",
       "</table>\n",
       "</div>"
      ],
      "text/plain": [
       "     Tanggal  Inflasi  Label_Inflasi\n",
       "0 2002-12-01   0.0000              0\n",
       "1 2003-01-01   0.0868              2\n",
       "2 2003-02-01   0.0760              2\n",
       "3 2003-03-01   0.0717              2\n",
       "4 2003-04-01   0.0762              2\n",
       "5 2003-05-01   0.0715              2\n",
       "6 2003-06-01   0.0698              2\n",
       "7 2003-07-01   0.0627              2\n",
       "8 2003-08-01   0.0651              2\n",
       "9 2003-09-01   0.0633              2"
      ]
     },
     "execution_count": 104,
     "metadata": {},
     "output_type": "execute_result"
    }
   ],
   "source": [
    "dataset_inflasi.head(10)"
   ]
  },
  {
   "cell_type": "code",
   "execution_count": 114,
   "metadata": {},
   "outputs": [
    {
     "data": {
      "image/png": "[encoded data removed]",
      "text/plain": [
       "<Figure size 720x360 with 1 Axes>"
      ]
     },
     "metadata": {},
     "output_type": "display_data"
    }
   ],
   "source": [
    "#Distribusi frekuensi inflasi berdasarkan pada Label_Inflasi \n",
    "\n",
    "group_by_year = pd.DataFrame(dataset_inflasi.Inflasi.groupby([dataset_inflasi['Label_Inflasi']]).count())\n",
    "group_by_year.columns = ['Frequency']\n",
    "\n",
    "plt.figure(figsize=(10,5))\n",
    "by_year = sns.barplot(x=group_by_year.index, y=group_by_year.Frequency)"
   ]
  },
  {
   "cell_type": "code",
   "execution_count": null,
   "metadata": {},
   "outputs": [],
   "source": []
  }
 ],
 "metadata": {
  "kernelspec": {
   "display_name": "Python 3",
   "language": "python",
   "name": "python3"
  },
  "language_info": {
   "codemirror_mode": {
    "name": "ipython",
    "version": 3
   },
   "file_extension": ".py",
   "mimetype": "text/x-python",
   "name": "python",
   "nbconvert_exporter": "python",
   "pygments_lexer": "ipython3",
   "version": "3.7.3"
  }
 },
 "nbformat": 4,
 "nbformat_minor": 2
}
